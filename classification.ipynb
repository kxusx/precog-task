{
 "cells": [
  {
   "cell_type": "code",
   "execution_count": 45,
   "metadata": {},
   "outputs": [],
   "source": [
    "import pandas as pd\n",
    "from sklearn.model_selection import train_test_split\n",
    "from sklearn.ensemble import RandomForestClassifier\n",
    "from sklearn.neighbors import KNeighborsClassifier\n",
    "from sklearn.tree import DecisionTreeClassifier\n",
    "from sklearn.metrics import accuracy_score, f1_score"
   ]
  },
  {
   "cell_type": "code",
   "execution_count": 46,
   "metadata": {},
   "outputs": [],
   "source": [
    "data_2004 = pd.read_csv('Elections_2004_Winning_Candidates.csv')\n",
    "data_2009 = pd.read_csv('Elections_2009_Winning_Candidates.csv')\n",
    "data_2014 = pd.read_csv('Elections_2014_Winning_Candidates.csv')\n",
    "\n",
    "historical_data = pd.concat([data_2004, data_2009, data_2014], ignore_index=True)\n",
    "\n",
    "X_train = historical_data[['State_Name', 'Turnout_Percentage', 'Sex', 'Turncoat']]\n",
    "y_train = historical_data['Party']\n",
    "for i in range(len(X_train['Sex'])):\n",
    "    if pd.isna(X_train.loc[i, 'Sex']):\n",
    "        X_train.loc[i, 'Sex'] = 'M'\n",
    "# X_train.loc[:, 'Sex'] = X_train['Sex'].fillna('M')\n",
    "# print(X_train['Sex'].unique())\n",
    "X_train = pd.get_dummies(X_train, columns=['Sex','State_Name'], drop_first=True)\n",
    "# print(X_train.columns)\n",
    "# print(X_train.head())\n",
    "# print(X_train)\n",
    "\n",
    "\n",
    "# Load the Elections_2019 data\n",
    "data_2019 = pd.read_csv('Elections_2019_Winning_Candidates.csv')\n",
    "data_2019['State_Name'] = data_2019['State_Name'].replace('Telangana', 'Andhra_Pradesh')\n",
    "data_2019['Sex'] = data_2019['Sex'].replace('MALE', 'M')\n",
    "# print all the unique values in the Sex column\n",
    "# print(data_2019['Sex'].unique())\n",
    "\n",
    "# Prepare the 2019 data for prediction\n",
    "X_test = data_2019[['State_Name', 'Turnout_Percentage', 'Sex', 'Turncoat']]\n",
    "X_test = pd.get_dummies(X_test, columns=['Sex', 'State_Name'], drop_first=True)\n",
    "\n",
    "y_test = data_2019['Party']\n",
    "# print(X_test.columns)\n",
    "# Make predictions on the Elections_2019 data"
   ]
  },
  {
   "cell_type": "code",
   "execution_count": 47,
   "metadata": {},
   "outputs": [
    {
     "name": "stdout",
     "output_type": "stream",
     "text": [
      "Accuracy: 0.47\n",
      "F1 Score: 0.51\n"
     ]
    }
   ],
   "source": [
    "\n",
    "clf = RandomForestClassifier(random_state=12)\n",
    "clf.fit(X_train, y_train)\n",
    "\n",
    "y_pred = clf.predict(X_test)\n",
    "\n",
    "\n",
    "accuracy = accuracy_score(y_test, y_pred)\n",
    "f1 = f1_score(y_test, y_pred, average='weighted')\n",
    "\n",
    "print(f\"Accuracy: {accuracy:.2f}\")\n",
    "print(f\"F1 Score: {f1:.2f}\")"
   ]
  },
  {
   "cell_type": "code",
   "execution_count": 48,
   "metadata": {},
   "outputs": [
    {
     "name": "stdout",
     "output_type": "stream",
     "text": [
      "Accuracy: 0.45\n",
      "F1 Score: 0.50\n"
     ]
    }
   ],
   "source": [
    "# Train the Decision Tree classifier\n",
    "clf = DecisionTreeClassifier(random_state=42)\n",
    "clf.fit(X_train, y_train)\n",
    "\n",
    "y_pred = clf.predict(X_test)\n",
    "\n",
    "accuracy = accuracy_score(y_test, y_pred)\n",
    "f1 = f1_score(y_test, y_pred, average='weighted')\n",
    "\n",
    "print(f\"Accuracy: {accuracy:.2f}\")\n",
    "print(f\"F1 Score: {f1:.2f}\")"
   ]
  },
  {
   "cell_type": "code",
   "execution_count": 50,
   "metadata": {},
   "outputs": [
    {
     "name": "stdout",
     "output_type": "stream",
     "text": [
      "Accuracy: 0.52\n",
      "F1 Score: 0.52\n"
     ]
    },
    {
     "name": "stderr",
     "output_type": "stream",
     "text": [
      "/var/folders/3v/djh89n8d1sg02jc6wtj1dyx40000gn/T/ipykernel_93264/3242272451.py:20: SettingWithCopyWarning: \n",
      "A value is trying to be set on a copy of a slice from a DataFrame.\n",
      "Try using .loc[row_indexer,col_indexer] = value instead\n",
      "\n",
      "See the caveats in the documentation: https://pandas.pydata.org/pandas-docs/stable/user_guide/indexing.html#returning-a-view-versus-a-copy\n",
      "  X_train['Sex'] = X_train['Sex'].fillna('M')\n",
      "/var/folders/3v/djh89n8d1sg02jc6wtj1dyx40000gn/T/ipykernel_93264/3242272451.py:32: SettingWithCopyWarning: \n",
      "A value is trying to be set on a copy of a slice from a DataFrame.\n",
      "Try using .loc[row_indexer,col_indexer] = value instead\n",
      "\n",
      "See the caveats in the documentation: https://pandas.pydata.org/pandas-docs/stable/user_guide/indexing.html#returning-a-view-versus-a-copy\n",
      "  X_test['Sex'] = X_test['Sex'].fillna('M')\n"
     ]
    }
   ],
   "source": [
    "import pandas as pd\n",
    "from sklearn.neighbors import KNeighborsClassifier\n",
    "from sklearn.metrics import accuracy_score, f1_score\n",
    "from sklearn.model_selection import train_test_split\n",
    "from sklearn.preprocessing import StandardScaler\n",
    "\n",
    "data_2004 = pd.read_csv('Elections_2004_Winning_Candidates.csv')\n",
    "data_2009 = pd.read_csv('Elections_2009_Winning_Candidates.csv')\n",
    "data_2014 = pd.read_csv('Elections_2014_Winning_Candidates.csv')\n",
    "\n",
    "\n",
    "historical_data = pd.concat([data_2004, data_2009, data_2014], ignore_index=True)\n",
    "\n",
    "X_train = historical_data[['State_Name', 'Turnout_Percentage', 'Sex', 'Turncoat']]\n",
    "y_train = historical_data['Party']\n",
    "\n",
    "\n",
    "X_train['Sex'] = X_train['Sex'].fillna('M')\n",
    "\n",
    "X_train = pd.get_dummies(X_train, columns=['Sex', 'State_Name'], drop_first=True)\n",
    "\n",
    "data_2019 = pd.read_csv('Elections_2019_Winning_Candidates.csv')\n",
    "data_2019['State_Name'] = data_2019['State_Name'].replace('Telangana', 'Andhra Pradesh')\n",
    "data_2019['Sex'] = data_2019['Sex'].replace('MALE', 'M')\n",
    "\n",
    "X_test = data_2019[['State_Name', 'Turnout_Percentage', 'Sex', 'Turncoat']]\n",
    "X_test['Sex'] = X_test['Sex'].fillna('M')\n",
    "\n",
    "X_test = pd.get_dummies(X_test, columns=['Sex', 'State_Name'], drop_first=True)\n",
    "\n",
    "X_train, X_test = X_train.align(X_test, join='outer', axis=1, fill_value=0)\n",
    "\n",
    "scaler = StandardScaler()\n",
    "X_train_scaled = scaler.fit_transform(X_train)\n",
    "X_test_scaled = scaler.transform(X_test)\n",
    "\n",
    "k = 5  # number of neighbors\n",
    "clf = KNeighborsClassifier(n_neighbors=k)\n",
    "clf.fit(X_train_scaled, y_train)\n",
    "\n",
    "# Make predictions on the Elections_2019 data\n",
    "y_pred = clf.predict(X_test_scaled)\n",
    "\n",
    "# Assuming 'ActualWinnerParty' is the true target variable in the 2019 data\n",
    "y_true = data_2019['Party']\n",
    "\n",
    "# Calculate accuracy and F1 score\n",
    "accuracy = accuracy_score(y_true, y_pred)\n",
    "f1 = f1_score(y_true, y_pred, average='weighted')\n",
    "\n",
    "print(f\"Accuracy: {accuracy:.2f}\")\n",
    "print(f\"F1 Score: {f1:.2f}\")\n"
   ]
  },
  {
   "cell_type": "code",
   "execution_count": 4,
   "metadata": {},
   "outputs": [
    {
     "name": "stderr",
     "output_type": "stream",
     "text": [
      "/var/folders/3v/djh89n8d1sg02jc6wtj1dyx40000gn/T/ipykernel_95719/3415086257.py:20: SettingWithCopyWarning: \n",
      "A value is trying to be set on a copy of a slice from a DataFrame.\n",
      "Try using .loc[row_indexer,col_indexer] = value instead\n",
      "\n",
      "See the caveats in the documentation: https://pandas.pydata.org/pandas-docs/stable/user_guide/indexing.html#returning-a-view-versus-a-copy\n",
      "  X['Sex'] = X['Sex'].fillna('M')\n"
     ]
    },
    {
     "name": "stdout",
     "output_type": "stream",
     "text": [
      "Accuracy: 0.53\n",
      "F1 Score: 0.49\n"
     ]
    },
    {
     "name": "stderr",
     "output_type": "stream",
     "text": [
      "/usr/local/lib/python3.11/site-packages/sklearn/linear_model/_logistic.py:460: ConvergenceWarning: lbfgs failed to converge (status=1):\n",
      "STOP: TOTAL NO. of ITERATIONS REACHED LIMIT.\n",
      "\n",
      "Increase the number of iterations (max_iter) or scale the data as shown in:\n",
      "    https://scikit-learn.org/stable/modules/preprocessing.html\n",
      "Please also refer to the documentation for alternative solver options:\n",
      "    https://scikit-learn.org/stable/modules/linear_model.html#logistic-regression\n",
      "  n_iter_i = _check_optimize_result(\n"
     ]
    }
   ],
   "source": [
    "import pandas as pd\n",
    "from sklearn.linear_model import LogisticRegression\n",
    "from sklearn.metrics import accuracy_score, f1_score\n",
    "from sklearn.model_selection import train_test_split\n",
    "from sklearn.preprocessing import StandardScaler\n",
    "\n",
    "# Load the historical election data from 2004, 2009, and 2014\n",
    "data_2004 = pd.read_csv('Elections_2004_Winning_Candidates.csv')\n",
    "data_2009 = pd.read_csv('Elections_2009_Winning_Candidates.csv')\n",
    "data_2014 = pd.read_csv('Elections_2014_Winning_Candidates.csv')\n",
    "\n",
    "historical_data = pd.concat([data_2004, data_2009, data_2014], ignore_index=True)\n",
    "\n",
    "X = historical_data[['State_Name', 'Turnout_Percentage', 'Sex', 'Turncoat']]\n",
    "y = historical_data['Party']\n",
    "\n",
    "X['Sex'] = X['Sex'].fillna('M')\n",
    "\n",
    "X = pd.get_dummies(X, columns=['Sex', 'State_Name'], drop_first=True)\n",
    "\n",
    "X_train, X_test, y_train, y_test = train_test_split(X, y, test_size=0.2, random_state=42)\n",
    "\n",
    "scaler = StandardScaler()\n",
    "X_train_scaled = scaler.fit_transform(X_train)\n",
    "X_test_scaled = scaler.transform(X_test)\n",
    "\n",
    "clf = LogisticRegression(random_state=42)\n",
    "clf.fit(X_train_scaled, y_train)\n",
    "\n",
    "y_pred = clf.predict(X_test_scaled)\n",
    "\n",
    "accuracy = accuracy_score(y_test, y_pred)\n",
    "f1 = f1_score(y_test, y_pred, average='weighted')\n",
    "\n",
    "print(f\"Accuracy: {accuracy:.2f}\")\n",
    "print(f\"F1 Score: {f1:.2f}\")\n"
   ]
  },
  {
   "cell_type": "code",
   "execution_count": null,
   "metadata": {},
   "outputs": [],
   "source": []
  }
 ],
 "metadata": {
  "kernelspec": {
   "display_name": "Python 3",
   "language": "python",
   "name": "python3"
  },
  "language_info": {
   "codemirror_mode": {
    "name": "ipython",
    "version": 3
   },
   "file_extension": ".py",
   "mimetype": "text/x-python",
   "name": "python",
   "nbconvert_exporter": "python",
   "pygments_lexer": "ipython3",
   "version": "3.11.2"
  },
  "orig_nbformat": 4
 },
 "nbformat": 4,
 "nbformat_minor": 2
}
