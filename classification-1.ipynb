{
 "cells": [
  {
   "cell_type": "code",
   "execution_count": 6,
   "metadata": {},
   "outputs": [],
   "source": [
    "import pandas as pd\n",
    "from sklearn.model_selection import train_test_split\n",
    "from sklearn.ensemble import RandomForestClassifier\n",
    "from sklearn.neighbors import KNeighborsClassifier\n",
    "from sklearn.tree import DecisionTreeClassifier\n",
    "from sklearn.linear_model import LogisticRegression\n",
    "from sklearn.metrics import accuracy_score, f1_score"
   ]
  },
  {
   "cell_type": "code",
   "execution_count": null,
   "metadata": {},
   "outputs": [],
   "source": [
    "# People who have done more than matriculation, have better chances, using only education as input parameter, and checking for 2019 data"
   ]
  },
  {
   "cell_type": "code",
   "execution_count": 12,
   "metadata": {},
   "outputs": [
    {
     "name": "stdout",
     "output_type": "stream",
     "text": [
      "Accuracy :  0.9437028438769588\n"
     ]
    }
   ],
   "source": [
    "# 2019\n",
    "df = pd.read_csv(\"Elections_2019.csv\")\n",
    "\n",
    "education_levels = { \"Illiterate\": 0, \"Literate\": 1,\"5th Pass\": 2, \"8th Pass\": 3, \"10th Pass\": 4, \"12th Pass\": 5}\n",
    "\n",
    "df['EducationLevel'] = df['MyNeta_education'].map(education_levels)\n",
    "\n",
    "# Other all are above 12th now\n",
    "df['EducationLevel'] = df['EducationLevel'].fillna(-1)\n",
    "\n",
    "X = df[['EducationLevel']].values\n",
    "y = (df['Position'] == 1).astype(int).values\n",
    "\n",
    "# (80% train, 20% test)\n",
    "X_train, X_test, y_train, y_test = train_test_split(X, y, test_size=0.2, random_state=42)\n",
    "\n",
    "model = LogisticRegression(random_state=42)\n",
    "model.fit(X_train, y_train)\n",
    "\n",
    "y_pred = model.predict(X_test)\n",
    "accuracy = accuracy_score(y_test, y_pred)\n",
    "\n",
    "print(\"Accuracy : \", accuracy)\n"
   ]
  },
  {
   "cell_type": "code",
   "execution_count": 13,
   "metadata": {},
   "outputs": [
    {
     "name": "stdout",
     "output_type": "stream",
     "text": [
      "Accuracy :  0.9378179762577727\n"
     ]
    }
   ],
   "source": [
    "# 2014\n",
    "df = pd.read_csv(\"Elections_2014.csv\")\n",
    "\n",
    "education_levels = { \"Illiterate\": 0, \"Literate\": 1,\"5th Pass\": 2, \"8th Pass\": 3, \"10th Pass\": 4, \"12th Pass\": 5\n",
    "}\n",
    "\n",
    "df['EducationLevel'] = df['MyNeta_education'].map(education_levels)\n",
    "\n",
    "# Other all are above 12th now\n",
    "df['EducationLevel'] = df['EducationLevel'].fillna(-1)\n",
    "\n",
    "X = df[['EducationLevel']].values\n",
    "y = (df['Position'] == 1).astype(int).values\n",
    "\n",
    "# (80% train, 20% test)\n",
    "X_train, X_test, y_train, y_test = train_test_split(X, y, test_size=0.2, random_state=42)\n",
    "\n",
    "model = LogisticRegression(random_state=42)\n",
    "model.fit(X_train, y_train)\n",
    "\n",
    "y_pred = model.predict(X_test)\n",
    "accuracy = accuracy_score(y_test, y_pred)\n",
    "\n",
    "print(\"Accuracy : \", accuracy)\n"
   ]
  },
  {
   "cell_type": "code",
   "execution_count": 15,
   "metadata": {},
   "outputs": [
    {
     "name": "stdout",
     "output_type": "stream",
     "text": [
      "Accuracy : 0.9431396786155748\n"
     ]
    }
   ],
   "source": [
    "df = pd.read_csv(\"Elections_2009.csv\")\n",
    "\n",
    "education_levels = { \"Illiterate\": 0, \"Literate\": 1,\"5th Pass\": 2, \"8th Pass\": 3, \"10th Pass\": 4, \"12th Pass\": 5\n",
    "}\n",
    "\n",
    "df['EducationLevel'] = df['MyNeta_education'].map(education_levels)\n",
    "\n",
    "# Other all are above 12th now\n",
    "df['EducationLevel'] = df['EducationLevel'].fillna(-1)\n",
    "\n",
    "X = df[['EducationLevel']].values\n",
    "y = (df['Position'] == 1).astype(int).values\n",
    "\n",
    "# (80% train, 20% test)\n",
    "X_train, X_test, y_train, y_test = train_test_split(X, y, test_size=0.2, random_state=42)\n",
    "\n",
    "model = LogisticRegression(random_state=42)\n",
    "model.fit(X_train, y_train)\n",
    "\n",
    "y_pred = model.predict(X_test)\n",
    "accuracy = accuracy_score(y_test, y_pred)\n",
    "\n",
    "print(\"Accuracy :\", accuracy)\n"
   ]
  },
  {
   "cell_type": "code",
   "execution_count": 14,
   "metadata": {},
   "outputs": [
    {
     "name": "stdout",
     "output_type": "stream",
     "text": [
      "Accuracy : 0.8951686417502279\n"
     ]
    }
   ],
   "source": [
    "df = pd.read_csv(\"Elections_2004.csv\")\n",
    "\n",
    "education_levels = { \"Illiterate\": 0, \"Literate\": 1,\"5th Pass\": 2, \"8th Pass\": 3, \"10th Pass\": 4, \"12th Pass\": 5\n",
    "}\n",
    "\n",
    "df['EducationLevel'] = df['MyNeta_education'].map(education_levels)\n",
    "\n",
    "# Other all are above 12th now\n",
    "df['EducationLevel'] = df['EducationLevel'].fillna(-1)\n",
    "\n",
    "X = df[['EducationLevel']].values\n",
    "y = (df['Position'] == 1).astype(int).values\n",
    "\n",
    "# (80% train, 20% test)\n",
    "X_train, X_test, y_train, y_test = train_test_split(X, y, test_size=0.2, random_state=42)\n",
    "\n",
    "model = LogisticRegression(random_state=42)\n",
    "model.fit(X_train, y_train)\n",
    "\n",
    "y_pred = model.predict(X_test)\n",
    "accuracy = accuracy_score(y_test, y_pred)\n",
    "\n",
    "print(\"Accuracy :\", accuracy)\n"
   ]
  },
  {
   "cell_type": "code",
   "execution_count": null,
   "metadata": {},
   "outputs": [],
   "source": []
  }
 ],
 "metadata": {
  "kernelspec": {
   "display_name": "Python 3",
   "language": "python",
   "name": "python3"
  },
  "language_info": {
   "codemirror_mode": {
    "name": "ipython",
    "version": 3
   },
   "file_extension": ".py",
   "mimetype": "text/x-python",
   "name": "python",
   "nbconvert_exporter": "python",
   "pygments_lexer": "ipython3",
   "version": "3.11.2"
  },
  "orig_nbformat": 4
 },
 "nbformat": 4,
 "nbformat_minor": 2
}
