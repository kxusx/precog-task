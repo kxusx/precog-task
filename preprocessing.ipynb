{
 "cells": [
  {
   "cell_type": "code",
   "execution_count": 2,
   "metadata": {},
   "outputs": [],
   "source": [
    "import pandas as pd\n",
    "import matplotlib.pyplot as plt\n",
    "import seaborn as sns\n",
    "from sklearn.model_selection import train_test_split\n",
    "from sklearn.linear_model import LogisticRegression\n",
    "from sklearn.metrics import accuracy_score, classification_report, confusion_matrix\n",
    "\n"
   ]
  },
  {
   "cell_type": "code",
   "execution_count": 5,
   "metadata": {},
   "outputs": [
    {
     "name": "stderr",
     "output_type": "stream",
     "text": [
      "/var/folders/3v/djh89n8d1sg02jc6wtj1dyx40000gn/T/ipykernel_90042/2089891108.py:2: DtypeWarning: Columns (17,36,37,38,39,40,41,42,43) have mixed types. Specify dtype option on import or set low_memory=False.\n",
      "  df = pd.read_csv(input_file)\n"
     ]
    }
   ],
   "source": [
    "input_file = \"TCPD_GE_All_States_2023-7-24.csv\"\n",
    "df = pd.read_csv(input_file)\n",
    "\n",
    "# filtered_df = df[(df['Year'] == 2014) | (df['Year'] == 2019)]\n",
    "output_file = \"Elections_2004.csv\"\n",
    "filtered_df = df[(df['Year'] == 2004)]\n",
    "filtered_df.to_csv(output_file, index=False)\n",
    "\n",
    "output_file = \"Elections_2009.csv\"\n",
    "filtered_df = df[(df['Year'] == 2009)]\n",
    "filtered_df.to_csv(output_file, index=False)\n",
    "\n",
    "output_file = \"Elections_2014.csv\"\n",
    "filtered_df = df[(df['Year'] == 2014)]\n",
    "filtered_df.to_csv(output_file, index=False)\n",
    "\n",
    "output_file = \"Elections_2019.csv\"\n",
    "filtered_df = df[(df['Year'] == 2019)]\n",
    "filtered_df.to_csv(output_file, index=False)\n"
   ]
  },
  {
   "cell_type": "code",
   "execution_count": 6,
   "metadata": {},
   "outputs": [],
   "source": [
    "# -------------------2004-----------------------------------------\n",
    "input_file = \"Elections_2004.csv\"\n",
    "output_file = \"Elections_2004_Winning_Candidates.csv\"\n",
    "df = pd.read_csv(input_file)\n",
    "# Group by StateName and ConstituencyNo, and keep only the rows where Position is 1 (winning candidates)\n",
    "winning_candidates_df = df.groupby(['State_Name', 'Constituency_No']).apply(lambda x: x[x['Position'] == 1])\n",
    "# print(winning_candidates_df)\n",
    "winning_candidates_df.reset_index(drop=True, inplace=True)\n",
    "# print(winning_candidates_df)\n",
    "winning_candidates_df.to_csv(output_file, index=False)\n",
    "# -------------------2009-----------------------------------------\n",
    "input_file = \"Elections_2009.csv\"\n",
    "output_file = \"Elections_2009_Winning_Candidates.csv\"\n",
    "df = pd.read_csv(input_file)\n",
    "# Group by StateName and ConstituencyNo, and keep only the rows where Position is 1 (winning candidates)\n",
    "winning_candidates_df = df.groupby(['State_Name', 'Constituency_No']).apply(lambda x: x[x['Position'] == 1])\n",
    "# print(winning_candidates_df)\n",
    "winning_candidates_df.reset_index(drop=True, inplace=True)\n",
    "# print(winning_candidates_df)\n",
    "winning_candidates_df.to_csv(output_file, index=False)\n",
    "# -------------------2014-----------------------------------------\n",
    "input_file = \"Elections_2014.csv\"\n",
    "output_file = \"Elections_2014_Winning_Candidates.csv\"\n",
    "df = pd.read_csv(input_file)\n",
    "# Group by StateName and ConstituencyNo, and keep only the rows where Position is 1 (winning candidates)\n",
    "winning_candidates_df = df.groupby(['State_Name', 'Constituency_No']).apply(lambda x: x[x['Position'] == 1])\n",
    "# print(winning_candidates_df)\n",
    "winning_candidates_df.reset_index(drop=True, inplace=True)\n",
    "# print(winning_candidates_df)\n",
    "winning_candidates_df.to_csv(output_file, index=False)\n",
    "# -------------------2019-----------------------------------------\n",
    "input_file = \"Elections_2019.csv\"\n",
    "output_file = \"Elections_2019_Winning_Candidates.csv\"\n",
    "df = pd.read_csv(input_file)\n",
    "# Group by StateName and ConstituencyNo, and keep only the rows where Position is 1 (winning candidates)\n",
    "winning_candidates_df = df.groupby(['State_Name', 'Constituency_No']).apply(lambda x: x[x['Position'] == 1])\n",
    "# print(winning_candidates_df)\n",
    "winning_candidates_df.reset_index(drop=True, inplace=True)\n",
    "# print(winning_candidates_df)\n",
    "winning_candidates_df.to_csv(output_file, index=False)\n",
    "\n",
    "\n"
   ]
  },
  {
   "cell_type": "code",
   "execution_count": null,
   "metadata": {},
   "outputs": [],
   "source": []
  }
 ],
 "metadata": {
  "kernelspec": {
   "display_name": "Python 3",
   "language": "python",
   "name": "python3"
  },
  "language_info": {
   "codemirror_mode": {
    "name": "ipython",
    "version": 3
   },
   "file_extension": ".py",
   "mimetype": "text/x-python",
   "name": "python",
   "nbconvert_exporter": "python",
   "pygments_lexer": "ipython3",
   "version": "3.11.2"
  },
  "orig_nbformat": 4
 },
 "nbformat": 4,
 "nbformat_minor": 2
}
